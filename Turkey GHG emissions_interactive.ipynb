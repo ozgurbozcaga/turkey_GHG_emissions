{
 "cells": [
  {
   "cell_type": "code",
   "execution_count": 47,
   "id": "45b08575-d704-4f56-a17f-c4edbf352e1a",
   "metadata": {},
   "outputs": [],
   "source": [
    "%matplotlib widget"
   ]
  },
  {
   "cell_type": "code",
   "execution_count": 49,
   "id": "115ee3e5-88f1-42ea-ba5e-4809af26d093",
   "metadata": {},
   "outputs": [],
   "source": [
    "import pandas as pd\n",
    "import plotly.graph_objects as go\n",
    "import ipywidgets as widgets\n",
    "from IPython.display import display, clear_output"
   ]
  },
  {
   "cell_type": "code",
   "execution_count": 51,
   "id": "3a721182-c967-44f6-a12e-53c16babacfe",
   "metadata": {},
   "outputs": [],
   "source": [
    "# Creating the DataFrame\n",
    "data = {\n",
    "    \"Year\": [1990, 1991, 1992, 1993, 1994, 1995, 1996, 1997, 1998, 1999, \n",
    "             2000, 2001, 2002, 2003, 2004, 2005, 2006, 2007, 2008, 2009, \n",
    "             2010, 2011, 2012, 2013, 2014, 2015, 2016, 2017, 2018, 2019, 2020, 2021],\n",
    "    \"Energy\": [139.5, 144.0, 150.3, 156.8, 153.3, 166.3, 184.0, 196.1, 195.8, 193.8, \n",
    "               216.0, 206.0, 206.0, 220.5, 226.3, 244.5, 260.5, 291.5, 291.3, 292.9, \n",
    "               287.9, 298.9, 321.6, 308.3, 326.7, 342.0, 361.7, 382.4, 373.4, 365.6, 366.6, 402.5],\n",
    "    \"IPPU\": [22.9, 24.6, 24.3, 24.8, 24.1, 25.5, 26.2, 27.0, 27.3, 25.8, \n",
    "             26.2, 25.8, 26.8, 28.2, 30.8, 34.3, 36.8, 39.7, 41.7, 43.1, \n",
    "             49.1, 54.0, 56.3, 59.3, 60.1, 59.7, 63.8, 66.6, 67.7, 59.0, 59.6, 68.0],\n",
    "    \"Agriculture\": [46.1, 46.9, 47.0, 47.4, 44.9, 44.1, 44.8, 42.5, 43.7, 44.3, \n",
    "                    42.3, 39.9, 37.6, 40.6, 41.3, 42.4, 43.9, 43.4, 41.3, 42.0, \n",
    "                    44.4, 44.9, 52.7, 55.9, 56.2, 56.1, 58.9, 63.3, 65.3, 68.0, 73.2, 72.1],\n",
    "    \"LULUCF\": [-66.5, -67.4, -67.5, -66.6, -68.0, -68.0, -67.1, -70.4, -70.6, -71.2, \n",
    "               -70.8, -70.8, -69.3, -71.2, -69.7, -71.8, -71.8, -71.8, -67.9, -67.8, \n",
    "               -71.9, -71.6, -75.6, -77.2, -76.9, -76.8, -72.8, -75.0, -75.8, -62.7, -56.9, -47.1],\n",
    "    \"Waste\": [11.1, 11.3, 11.5, 11.8, 12.1, 12.3, 12.7, 12.5, 13.5, 13.9, \n",
    "              14.8, 14.3, 15.2, 15.6, 16.1, 16.4, 17.1, 17.1, 17.2, 17.4, \n",
    "              17.8, 17.8, 17.6, 17.8, 17.6, 17.6, 16.6, 16.6, 16.6, 14.7, 14.7, 13.4],\n",
    "    \"Total (Excluding LULUCF)\": [219.5, 226.8, 233.1, 240.8, 234.4, 238.7, 260.4, 278.8, 278.8, 277.8, \n",
    "                                 298.9, 285.6, 285.6, 304.8, 314.4, 337.6, 361.7, 391.7, 388.3, 395.2, \n",
    "                                 398.6, 428.4, 448.2, 438.6, 459.5, 475.0, 475.0, 508.7, 524.0, 508.7, 524.0, 564.4],\n",
    "    \"Total (Including LULUCF)\": [153.0, 159.4, 165.7, 174.2, 166.4, 170.6, 193.3, 208.4, 209.7, 206.6, \n",
    "                                 230.9, 214.9, 216.2, 233.7, 244.7, 265.8, 289.9, 319.6, 320.4, 326.9, \n",
    "                                 326.7, 356.9, 374.8, 363.3, 382.6, 398.2, 402.2, 433.7, 453.4, 445.9, 471.1, 517.2],\n",
    "}"
   ]
  },
  {
   "cell_type": "code",
   "execution_count": 53,
   "id": "63a6d633-173f-4692-b4c2-763373e8ef5c",
   "metadata": {},
   "outputs": [],
   "source": [
    "# Convert the data into a pandas DataFrame\n",
    "df = pd.DataFrame(data)"
   ]
  },
  {
   "cell_type": "code",
   "execution_count": 55,
   "id": "1b060bfc-08de-470b-a031-9ea725956009",
   "metadata": {},
   "outputs": [
    {
     "data": {
      "text/html": [
       "<div>\n",
       "<style scoped>\n",
       "    .dataframe tbody tr th:only-of-type {\n",
       "        vertical-align: middle;\n",
       "    }\n",
       "\n",
       "    .dataframe tbody tr th {\n",
       "        vertical-align: top;\n",
       "    }\n",
       "\n",
       "    .dataframe thead th {\n",
       "        text-align: right;\n",
       "    }\n",
       "</style>\n",
       "<table border=\"1\" class=\"dataframe\">\n",
       "  <thead>\n",
       "    <tr style=\"text-align: right;\">\n",
       "      <th></th>\n",
       "      <th>Year</th>\n",
       "      <th>Energy</th>\n",
       "      <th>IPPU</th>\n",
       "      <th>Agriculture</th>\n",
       "      <th>LULUCF</th>\n",
       "      <th>Waste</th>\n",
       "      <th>Total (Excluding LULUCF)</th>\n",
       "      <th>Total (Including LULUCF)</th>\n",
       "    </tr>\n",
       "  </thead>\n",
       "  <tbody>\n",
       "    <tr>\n",
       "      <th>0</th>\n",
       "      <td>1990</td>\n",
       "      <td>139.5</td>\n",
       "      <td>22.9</td>\n",
       "      <td>46.1</td>\n",
       "      <td>-66.5</td>\n",
       "      <td>11.1</td>\n",
       "      <td>219.5</td>\n",
       "      <td>153.0</td>\n",
       "    </tr>\n",
       "    <tr>\n",
       "      <th>1</th>\n",
       "      <td>1991</td>\n",
       "      <td>144.0</td>\n",
       "      <td>24.6</td>\n",
       "      <td>46.9</td>\n",
       "      <td>-67.4</td>\n",
       "      <td>11.3</td>\n",
       "      <td>226.8</td>\n",
       "      <td>159.4</td>\n",
       "    </tr>\n",
       "    <tr>\n",
       "      <th>2</th>\n",
       "      <td>1992</td>\n",
       "      <td>150.3</td>\n",
       "      <td>24.3</td>\n",
       "      <td>47.0</td>\n",
       "      <td>-67.5</td>\n",
       "      <td>11.5</td>\n",
       "      <td>233.1</td>\n",
       "      <td>165.7</td>\n",
       "    </tr>\n",
       "    <tr>\n",
       "      <th>3</th>\n",
       "      <td>1993</td>\n",
       "      <td>156.8</td>\n",
       "      <td>24.8</td>\n",
       "      <td>47.4</td>\n",
       "      <td>-66.6</td>\n",
       "      <td>11.8</td>\n",
       "      <td>240.8</td>\n",
       "      <td>174.2</td>\n",
       "    </tr>\n",
       "    <tr>\n",
       "      <th>4</th>\n",
       "      <td>1994</td>\n",
       "      <td>153.3</td>\n",
       "      <td>24.1</td>\n",
       "      <td>44.9</td>\n",
       "      <td>-68.0</td>\n",
       "      <td>12.1</td>\n",
       "      <td>234.4</td>\n",
       "      <td>166.4</td>\n",
       "    </tr>\n",
       "  </tbody>\n",
       "</table>\n",
       "</div>"
      ],
      "text/plain": [
       "   Year  Energy  IPPU  Agriculture  LULUCF  Waste  Total (Excluding LULUCF)  \\\n",
       "0  1990   139.5  22.9         46.1   -66.5   11.1                     219.5   \n",
       "1  1991   144.0  24.6         46.9   -67.4   11.3                     226.8   \n",
       "2  1992   150.3  24.3         47.0   -67.5   11.5                     233.1   \n",
       "3  1993   156.8  24.8         47.4   -66.6   11.8                     240.8   \n",
       "4  1994   153.3  24.1         44.9   -68.0   12.1                     234.4   \n",
       "\n",
       "   Total (Including LULUCF)  \n",
       "0                     153.0  \n",
       "1                     159.4  \n",
       "2                     165.7  \n",
       "3                     174.2  \n",
       "4                     166.4  "
      ]
     },
     "execution_count": 55,
     "metadata": {},
     "output_type": "execute_result"
    }
   ],
   "source": [
    "df.head()"
   ]
  },
  {
   "cell_type": "code",
   "execution_count": 79,
   "id": "ec4a687f-32ed-45c7-b2ce-7bccfa5bdc88",
   "metadata": {},
   "outputs": [],
   "source": [
    "# Create an Output widget to display the plot\n",
    "output = widgets.Output()"
   ]
  },
  {
   "cell_type": "code",
   "execution_count": 81,
   "id": "c71fc600-7446-44aa-82c3-afec0aed2e25",
   "metadata": {},
   "outputs": [],
   "source": [
    "# Function to create the plot with a given year range\n",
    "def update_plot(year_range):\n",
    "    # Clear the previous output within the Output widget\n",
    "    with output:\n",
    "        clear_output(wait=True)\n",
    "        \n",
    "        # Filter the data based on the selected year range\n",
    "        df_filtered = df[(df['Year'] >= year_range[0]) & (df['Year'] <= year_range[1])]\n",
    "\n",
    "        # Create the figure\n",
    "        fig = go.Figure()\n",
    "\n",
    "        # Add stacked bars for Energy, IPPU, Agriculture, and Waste\n",
    "        fig.add_trace(go.Bar(\n",
    "            x=df_filtered['Year'], y=df_filtered['Energy'], name='Energy',\n",
    "            marker_color='blue'\n",
    "        ))\n",
    "\n",
    "        fig.add_trace(go.Bar(\n",
    "            x=df_filtered['Year'], y=df_filtered['IPPU'], name='IPPU',\n",
    "            marker_color='green'\n",
    "        ))\n",
    "\n",
    "        fig.add_trace(go.Bar(\n",
    "            x=df_filtered['Year'], y=df_filtered['Agriculture'], name='Agriculture',\n",
    "            marker_color='orange'\n",
    "        ))\n",
    "\n",
    "        fig.add_trace(go.Bar(\n",
    "            x=df_filtered['Year'], y=df_filtered['Waste'], name='Waste',\n",
    "            marker_color='purple'\n",
    "        ))\n",
    "\n",
    "        # Add a line plot for Total (Excluding LULUCF)\n",
    "        fig.add_trace(go.Scatter(\n",
    "            x=df_filtered['Year'], y=df_filtered['Total (Excluding LULUCF)'],\n",
    "            name='Total (Excluding LULUCF)',\n",
    "            mode='lines+markers',\n",
    "            line=dict(color='red', width=1.5),  # Thinner line\n",
    "            marker=dict(size=6)\n",
    "        ))\n",
    "\n",
    "        # Update layout for stacked bars\n",
    "        fig.update_layout(\n",
    "            barmode='stack',\n",
    "            title=f\"Greenhouse Gas Emissions by Sector from {year_range[0]} to {year_range[1]}\",\n",
    "            xaxis_title=\"Year\",\n",
    "            yaxis_title=\"Emissions (Mt CO₂ eq.)\",\n",
    "            legend_title=\"Sector\",\n",
    "            template=\"plotly_white\"\n",
    "        )\n",
    "\n",
    "        # Show the plot\n",
    "        fig.show()"
   ]
  },
  {
   "cell_type": "code",
   "execution_count": 83,
   "id": "914b8e4e-c74e-4c78-83a5-fabced8db75f",
   "metadata": {},
   "outputs": [],
   "source": [
    "# Create a year range slider\n",
    "year_slider = widgets.IntRangeSlider(\n",
    "    value=[1990, 2021],\n",
    "    min=1990,\n",
    "    max=2021,\n",
    "    step=1,\n",
    "    description='Year Range:',\n",
    "    continuous_update=False\n",
    ")"
   ]
  },
  {
   "cell_type": "code",
   "execution_count": 85,
   "id": "0a804f08-a411-4915-a858-61bfe3af1b06",
   "metadata": {},
   "outputs": [],
   "source": [
    "\n",
    "# Define the callback function that updates the plot when the slider is changed\n",
    "def on_year_slider_change(change):\n",
    "    update_plot(change['new'])"
   ]
  },
  {
   "cell_type": "code",
   "execution_count": 87,
   "id": "c8c4d78d-168c-42c6-b55c-ac594c3a9beb",
   "metadata": {},
   "outputs": [],
   "source": [
    "# Attach the callback function to the slider\n",
    "year_slider.observe(on_year_slider_change, names='value')"
   ]
  },
  {
   "cell_type": "code",
   "execution_count": 89,
   "id": "d41f20d7-d53d-4985-857a-aa3f75732a29",
   "metadata": {},
   "outputs": [
    {
     "data": {
      "application/vnd.jupyter.widget-view+json": {
       "model_id": "787e999e27b44f37860ebdaaefa73543",
       "version_major": 2,
       "version_minor": 0
      },
      "text/plain": [
       "IntRangeSlider(value=(1990, 2021), continuous_update=False, description='Year Range:', max=2021, min=1990)"
      ]
     },
     "metadata": {},
     "output_type": "display_data"
    },
    {
     "data": {
      "application/vnd.jupyter.widget-view+json": {
       "model_id": "58de611b34cc4401ab3d8605818a997f",
       "version_major": 2,
       "version_minor": 0
      },
      "text/plain": [
       "Output()"
      ]
     },
     "metadata": {},
     "output_type": "display_data"
    }
   ],
   "source": [
    "# Display the slider and the initial plot\n",
    "display(year_slider, output)\n",
    "\n",
    "# Initial plot\n",
    "update_plot([1990, 2021])"
   ]
  }
 ],
 "metadata": {
  "kernelspec": {
   "display_name": "Python 3 (ipykernel)",
   "language": "python",
   "name": "python3"
  },
  "language_info": {
   "codemirror_mode": {
    "name": "ipython",
    "version": 3
   },
   "file_extension": ".py",
   "mimetype": "text/x-python",
   "name": "python",
   "nbconvert_exporter": "python",
   "pygments_lexer": "ipython3",
   "version": "3.12.3"
  }
 },
 "nbformat": 4,
 "nbformat_minor": 5
}
